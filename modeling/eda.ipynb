{
 "cells": [
  {
   "cell_type": "code",
   "execution_count": 3,
   "metadata": {},
   "outputs": [],
   "source": [
    "import numpy as np\n",
    "import pandas as pd\n",
    "import seaborn as sns\n",
    "import matplotlib.pyplot as plt"
   ]
  },
  {
   "cell_type": "code",
   "execution_count": 4,
   "metadata": {},
   "outputs": [],
   "source": [
    "df = pd.read_csv('../data/main_df.csv', index_col=0)"
   ]
  },
  {
   "cell_type": "code",
   "execution_count": 5,
   "metadata": {},
   "outputs": [
    {
     "name": "stdout",
     "output_type": "stream",
     "text": [
      "<class 'pandas.core.frame.DataFrame'>\n",
      "Int64Index: 1188 entries, 0 to 1187\n",
      "Data columns (total 12 columns):\n",
      " #   Column        Non-Null Count  Dtype  \n",
      "---  ------        --------------  -----  \n",
      " 0   date_cd       1188 non-null   int64  \n",
      " 1   gu            1188 non-null   object \n",
      " 2   temperature   1186 non-null   float64\n",
      " 3   humidity      1186 non-null   float64\n",
      " 4   avg_re_dust   1188 non-null   float64\n",
      " 5   PM10          1188 non-null   int64  \n",
      " 6   PM25          1188 non-null   int64  \n",
      " 7   O3            1188 non-null   float64\n",
      " 8   NO2           1188 non-null   float64\n",
      " 9   CO            1188 non-null   float64\n",
      " 10  SO2           1188 non-null   float64\n",
      " 11  TOT_LVPOP_CO  1188 non-null   float64\n",
      "dtypes: float64(8), int64(3), object(1)\n",
      "memory usage: 120.7+ KB\n"
     ]
    }
   ],
   "source": [
    "df.info()"
   ]
  },
  {
   "cell_type": "code",
   "execution_count": 6,
   "metadata": {},
   "outputs": [],
   "source": [
    "df = df.dropna()"
   ]
  },
  {
   "cell_type": "code",
   "execution_count": 8,
   "metadata": {},
   "outputs": [
    {
     "data": {
      "text/html": [
       "<div>\n",
       "<style scoped>\n",
       "    .dataframe tbody tr th:only-of-type {\n",
       "        vertical-align: middle;\n",
       "    }\n",
       "\n",
       "    .dataframe tbody tr th {\n",
       "        vertical-align: top;\n",
       "    }\n",
       "\n",
       "    .dataframe thead th {\n",
       "        text-align: right;\n",
       "    }\n",
       "</style>\n",
       "<table border=\"1\" class=\"dataframe\">\n",
       "  <thead>\n",
       "    <tr style=\"text-align: right;\">\n",
       "      <th></th>\n",
       "      <th>date_cd</th>\n",
       "      <th>gu</th>\n",
       "      <th>temperature</th>\n",
       "      <th>humidity</th>\n",
       "      <th>avg_re_dust</th>\n",
       "      <th>PM10</th>\n",
       "      <th>PM25</th>\n",
       "      <th>O3</th>\n",
       "      <th>NO2</th>\n",
       "      <th>CO</th>\n",
       "      <th>SO2</th>\n",
       "      <th>TOT_LVPOP_CO</th>\n",
       "    </tr>\n",
       "  </thead>\n",
       "  <tbody>\n",
       "    <tr>\n",
       "      <th>0</th>\n",
       "      <td>20180327</td>\n",
       "      <td>은평구</td>\n",
       "      <td>18.833333</td>\n",
       "      <td>53.583333</td>\n",
       "      <td>79.750000</td>\n",
       "      <td>95</td>\n",
       "      <td>63</td>\n",
       "      <td>0.036</td>\n",
       "      <td>0.044</td>\n",
       "      <td>0.6</td>\n",
       "      <td>0.006</td>\n",
       "      <td>442351.062267</td>\n",
       "    </tr>\n",
       "    <tr>\n",
       "      <th>1</th>\n",
       "      <td>20180328</td>\n",
       "      <td>노원구</td>\n",
       "      <td>18.461538</td>\n",
       "      <td>62.230769</td>\n",
       "      <td>32.384615</td>\n",
       "      <td>59</td>\n",
       "      <td>37</td>\n",
       "      <td>0.032</td>\n",
       "      <td>0.036</td>\n",
       "      <td>0.7</td>\n",
       "      <td>0.007</td>\n",
       "      <td>537207.775063</td>\n",
       "    </tr>\n",
       "    <tr>\n",
       "      <th>2</th>\n",
       "      <td>20180328</td>\n",
       "      <td>양천구</td>\n",
       "      <td>17.842105</td>\n",
       "      <td>48.842105</td>\n",
       "      <td>23.473684</td>\n",
       "      <td>50</td>\n",
       "      <td>40</td>\n",
       "      <td>0.031</td>\n",
       "      <td>0.033</td>\n",
       "      <td>0.6</td>\n",
       "      <td>0.005</td>\n",
       "      <td>400286.797388</td>\n",
       "    </tr>\n",
       "    <tr>\n",
       "      <th>3</th>\n",
       "      <td>20180329</td>\n",
       "      <td>강남구</td>\n",
       "      <td>19.909091</td>\n",
       "      <td>55.636364</td>\n",
       "      <td>42.727273</td>\n",
       "      <td>54</td>\n",
       "      <td>40</td>\n",
       "      <td>0.017</td>\n",
       "      <td>0.047</td>\n",
       "      <td>0.5</td>\n",
       "      <td>0.007</td>\n",
       "      <td>877847.112442</td>\n",
       "    </tr>\n",
       "    <tr>\n",
       "      <th>4</th>\n",
       "      <td>20180329</td>\n",
       "      <td>강북구</td>\n",
       "      <td>19.571429</td>\n",
       "      <td>62.428571</td>\n",
       "      <td>22.142857</td>\n",
       "      <td>59</td>\n",
       "      <td>34</td>\n",
       "      <td>0.030</td>\n",
       "      <td>0.028</td>\n",
       "      <td>0.5</td>\n",
       "      <td>0.004</td>\n",
       "      <td>303380.027396</td>\n",
       "    </tr>\n",
       "  </tbody>\n",
       "</table>\n",
       "</div>"
      ],
      "text/plain": [
       "    date_cd   gu  temperature   humidity  avg_re_dust  PM10  PM25     O3  \\\n",
       "0  20180327  은평구    18.833333  53.583333    79.750000    95    63  0.036   \n",
       "1  20180328  노원구    18.461538  62.230769    32.384615    59    37  0.032   \n",
       "2  20180328  양천구    17.842105  48.842105    23.473684    50    40  0.031   \n",
       "3  20180329  강남구    19.909091  55.636364    42.727273    54    40  0.017   \n",
       "4  20180329  강북구    19.571429  62.428571    22.142857    59    34  0.030   \n",
       "\n",
       "     NO2   CO    SO2   TOT_LVPOP_CO  \n",
       "0  0.044  0.6  0.006  442351.062267  \n",
       "1  0.036  0.7  0.007  537207.775063  \n",
       "2  0.033  0.6  0.005  400286.797388  \n",
       "3  0.047  0.5  0.007  877847.112442  \n",
       "4  0.028  0.5  0.004  303380.027396  "
      ]
     },
     "execution_count": 8,
     "metadata": {},
     "output_type": "execute_result"
    }
   ],
   "source": [
    "df.head()"
   ]
  },
  {
   "cell_type": "code",
   "execution_count": null,
   "metadata": {},
   "outputs": [],
   "source": []
  }
 ],
 "metadata": {
  "kernelspec": {
   "display_name": "Python 3",
   "language": "python",
   "name": "python3"
  },
  "language_info": {
   "codemirror_mode": {
    "name": "ipython",
    "version": 3
   },
   "file_extension": ".py",
   "mimetype": "text/x-python",
   "name": "python",
   "nbconvert_exporter": "python",
   "pygments_lexer": "ipython3",
   "version": "3.9.6"
  },
  "orig_nbformat": 4
 },
 "nbformat": 4,
 "nbformat_minor": 2
}
