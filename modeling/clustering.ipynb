{
 "cells": [
  {
   "cell_type": "code",
   "execution_count": 141,
   "id": "2d5b2076",
   "metadata": {},
   "outputs": [],
   "source": [
    "import pandas as pd\n",
    "import numpy as np\n",
    "import matplotlib.pyplot as plt\n",
    "\n",
    "from sklearn.metrics import silhouette_score\n",
    "from sklearn.preprocessing import StandardScaler\n",
    "from sklearn.cluster import KMeans"
   ]
  },
  {
   "cell_type": "code",
   "execution_count": 142,
   "id": "adcb5178",
   "metadata": {},
   "outputs": [
    {
     "data": {
      "text/html": [
       "<div>\n",
       "<style scoped>\n",
       "    .dataframe tbody tr th:only-of-type {\n",
       "        vertical-align: middle;\n",
       "    }\n",
       "\n",
       "    .dataframe tbody tr th {\n",
       "        vertical-align: top;\n",
       "    }\n",
       "\n",
       "    .dataframe thead th {\n",
       "        text-align: right;\n",
       "    }\n",
       "</style>\n",
       "<table border=\"1\" class=\"dataframe\">\n",
       "  <thead>\n",
       "    <tr style=\"text-align: right;\">\n",
       "      <th></th>\n",
       "      <th>date_cd</th>\n",
       "      <th>temp</th>\n",
       "      <th>hum</th>\n",
       "      <th>redust</th>\n",
       "      <th>pm10</th>\n",
       "      <th>pm25</th>\n",
       "      <th>o3</th>\n",
       "      <th>no2</th>\n",
       "      <th>co</th>\n",
       "      <th>so2</th>\n",
       "      <th>buspop</th>\n",
       "      <th>stops</th>\n",
       "      <th>consts</th>\n",
       "    </tr>\n",
       "  </thead>\n",
       "  <tbody>\n",
       "    <tr>\n",
       "      <th>count</th>\n",
       "      <td>1.210000e+02</td>\n",
       "      <td>121.000000</td>\n",
       "      <td>121.000000</td>\n",
       "      <td>121.000000</td>\n",
       "      <td>121.000000</td>\n",
       "      <td>121.000000</td>\n",
       "      <td>121.000000</td>\n",
       "      <td>121.000000</td>\n",
       "      <td>121.000000</td>\n",
       "      <td>121.000000</td>\n",
       "      <td>121.000000</td>\n",
       "      <td>121.000000</td>\n",
       "      <td>121.000000</td>\n",
       "    </tr>\n",
       "    <tr>\n",
       "      <th>mean</th>\n",
       "      <td>2.022161e+07</td>\n",
       "      <td>20.170477</td>\n",
       "      <td>57.938834</td>\n",
       "      <td>34.905842</td>\n",
       "      <td>32.989940</td>\n",
       "      <td>17.805470</td>\n",
       "      <td>0.031926</td>\n",
       "      <td>0.020448</td>\n",
       "      <td>0.419913</td>\n",
       "      <td>0.002854</td>\n",
       "      <td>25047.122729</td>\n",
       "      <td>61.793388</td>\n",
       "      <td>28.907127</td>\n",
       "    </tr>\n",
       "    <tr>\n",
       "      <th>std</th>\n",
       "      <td>1.097984e+03</td>\n",
       "      <td>4.050798</td>\n",
       "      <td>7.118418</td>\n",
       "      <td>24.734561</td>\n",
       "      <td>7.274902</td>\n",
       "      <td>4.167379</td>\n",
       "      <td>0.003967</td>\n",
       "      <td>0.003898</td>\n",
       "      <td>0.060436</td>\n",
       "      <td>0.000313</td>\n",
       "      <td>16384.523022</td>\n",
       "      <td>45.088971</td>\n",
       "      <td>8.656470</td>\n",
       "    </tr>\n",
       "    <tr>\n",
       "      <th>min</th>\n",
       "      <td>2.022026e+07</td>\n",
       "      <td>5.000000</td>\n",
       "      <td>45.900000</td>\n",
       "      <td>5.000000</td>\n",
       "      <td>20.666667</td>\n",
       "      <td>9.500000</td>\n",
       "      <td>0.020500</td>\n",
       "      <td>0.012200</td>\n",
       "      <td>0.271429</td>\n",
       "      <td>0.002250</td>\n",
       "      <td>4214.333333</td>\n",
       "      <td>4.000000</td>\n",
       "      <td>8.500000</td>\n",
       "    </tr>\n",
       "    <tr>\n",
       "      <th>25%</th>\n",
       "      <td>2.022081e+07</td>\n",
       "      <td>17.000000</td>\n",
       "      <td>52.375000</td>\n",
       "      <td>18.000000</td>\n",
       "      <td>29.000000</td>\n",
       "      <td>15.000000</td>\n",
       "      <td>0.028923</td>\n",
       "      <td>0.017438</td>\n",
       "      <td>0.366667</td>\n",
       "      <td>0.002600</td>\n",
       "      <td>12609.428571</td>\n",
       "      <td>26.000000</td>\n",
       "      <td>24.230769</td>\n",
       "    </tr>\n",
       "    <tr>\n",
       "      <th>50%</th>\n",
       "      <td>2.022086e+07</td>\n",
       "      <td>20.714286</td>\n",
       "      <td>57.272727</td>\n",
       "      <td>27.857143</td>\n",
       "      <td>31.500000</td>\n",
       "      <td>17.909091</td>\n",
       "      <td>0.031538</td>\n",
       "      <td>0.020429</td>\n",
       "      <td>0.410000</td>\n",
       "      <td>0.002846</td>\n",
       "      <td>20117.333333</td>\n",
       "      <td>49.000000</td>\n",
       "      <td>28.727273</td>\n",
       "    </tr>\n",
       "    <tr>\n",
       "      <th>75%</th>\n",
       "      <td>2.022240e+07</td>\n",
       "      <td>23.600000</td>\n",
       "      <td>61.250000</td>\n",
       "      <td>47.307692</td>\n",
       "      <td>36.500000</td>\n",
       "      <td>20.357143</td>\n",
       "      <td>0.034500</td>\n",
       "      <td>0.022600</td>\n",
       "      <td>0.460000</td>\n",
       "      <td>0.003100</td>\n",
       "      <td>36214.142857</td>\n",
       "      <td>94.000000</td>\n",
       "      <td>35.538462</td>\n",
       "    </tr>\n",
       "    <tr>\n",
       "      <th>max</th>\n",
       "      <td>2.022500e+07</td>\n",
       "      <td>27.000000</td>\n",
       "      <td>76.571429</td>\n",
       "      <td>158.727273</td>\n",
       "      <td>56.300000</td>\n",
       "      <td>26.833333</td>\n",
       "      <td>0.041167</td>\n",
       "      <td>0.031167</td>\n",
       "      <td>0.650000</td>\n",
       "      <td>0.003667</td>\n",
       "      <td>75157.500000</td>\n",
       "      <td>190.000000</td>\n",
       "      <td>48.300000</td>\n",
       "    </tr>\n",
       "  </tbody>\n",
       "</table>\n",
       "</div>"
      ],
      "text/plain": [
       "            date_cd        temp         hum      redust        pm10  \\\n",
       "count  1.210000e+02  121.000000  121.000000  121.000000  121.000000   \n",
       "mean   2.022161e+07   20.170477   57.938834   34.905842   32.989940   \n",
       "std    1.097984e+03    4.050798    7.118418   24.734561    7.274902   \n",
       "min    2.022026e+07    5.000000   45.900000    5.000000   20.666667   \n",
       "25%    2.022081e+07   17.000000   52.375000   18.000000   29.000000   \n",
       "50%    2.022086e+07   20.714286   57.272727   27.857143   31.500000   \n",
       "75%    2.022240e+07   23.600000   61.250000   47.307692   36.500000   \n",
       "max    2.022500e+07   27.000000   76.571429  158.727273   56.300000   \n",
       "\n",
       "             pm25          o3         no2          co         so2  \\\n",
       "count  121.000000  121.000000  121.000000  121.000000  121.000000   \n",
       "mean    17.805470    0.031926    0.020448    0.419913    0.002854   \n",
       "std      4.167379    0.003967    0.003898    0.060436    0.000313   \n",
       "min      9.500000    0.020500    0.012200    0.271429    0.002250   \n",
       "25%     15.000000    0.028923    0.017438    0.366667    0.002600   \n",
       "50%     17.909091    0.031538    0.020429    0.410000    0.002846   \n",
       "75%     20.357143    0.034500    0.022600    0.460000    0.003100   \n",
       "max     26.833333    0.041167    0.031167    0.650000    0.003667   \n",
       "\n",
       "             buspop       stops      consts  \n",
       "count    121.000000  121.000000  121.000000  \n",
       "mean   25047.122729   61.793388   28.907127  \n",
       "std    16384.523022   45.088971    8.656470  \n",
       "min     4214.333333    4.000000    8.500000  \n",
       "25%    12609.428571   26.000000   24.230769  \n",
       "50%    20117.333333   49.000000   28.727273  \n",
       "75%    36214.142857   94.000000   35.538462  \n",
       "max    75157.500000  190.000000   48.300000  "
      ]
     },
     "execution_count": 142,
     "metadata": {},
     "output_type": "execute_result"
    }
   ],
   "source": [
    "# main dataset은 동별 일별 데이터 -> 클러스터링 할 때에는 동별로 평균내어 진행\n",
    "df = pd.read_csv(\"../data/main_df2.csv\", index_col=0)\n",
    "grouped_df = df.groupby('dong').mean()\n",
    "grouped_df.describe()"
   ]
  },
  {
   "cell_type": "code",
   "execution_count": 143,
   "id": "79e46482",
   "metadata": {},
   "outputs": [],
   "source": [
    "# temp, hum의 경우 서울 내에서 평균을 냈을 때 많은 차이가 나지 않을 것이기에 제외\n",
    "# 대기오염지표, 공사장 수는 구 단위이므로 제외함\n",
    "feature=['redust', 'buspop', 'stops']\n",
    "X_train=grouped_df[feature].values"
   ]
  },
  {
   "cell_type": "code",
   "execution_count": 144,
   "id": "f44d1d59",
   "metadata": {},
   "outputs": [],
   "source": [
    "# outlier등 처리를 위함\n",
    "X_train = np.log1p(X_train)"
   ]
  },
  {
   "cell_type": "code",
   "execution_count": 145,
   "id": "6c9814a6",
   "metadata": {},
   "outputs": [],
   "source": [
    "scaler = StandardScaler()\n",
    "X_scaled=scaler.fit_transform(X_train)"
   ]
  },
  {
   "cell_type": "markdown",
   "id": "796647a0",
   "metadata": {},
   "source": [
    "k-means"
   ]
  },
  {
   "cell_type": "code",
   "execution_count": 146,
   "id": "27383289",
   "metadata": {},
   "outputs": [
    {
     "data": {
      "text/plain": [
       "[0.33464957385386745,\n",
       " 0.3102970490245171,\n",
       " 0.2889823123924558,\n",
       " 0.30102090610069876,\n",
       " 0.30660459573569976,\n",
       " 0.29472372555236165,\n",
       " 0.3110107653428419,\n",
       " 0.30071585404820156,\n",
       " 0.3083453790125078]"
      ]
     },
     "execution_count": 146,
     "metadata": {},
     "output_type": "execute_result"
    }
   ],
   "source": [
    "clusters = []\n",
    "kmeans_silhouette_scores = []\n",
    "inertia = []\n",
    "\n",
    "for k in range(2, 11):\n",
    "    kmeans = KMeans(n_clusters=k, random_state=42)\n",
    "    kmeans.fit(X_scaled)\n",
    "    \n",
    "    clusters.append(k)\n",
    "    inertia.append(kmeans.inertia_)\n",
    "\n",
    "    score = silhouette_score(X_scaled, kmeans.labels_)\n",
    "    kmeans_silhouette_scores.append(score)\n",
    "    \n",
    "kmeans_silhouette_scores"
   ]
  },
  {
   "cell_type": "code",
   "execution_count": 147,
   "id": "49a1f397",
   "metadata": {},
   "outputs": [
    {
     "data": {
      "text/html": [
       "<div>\n",
       "<style scoped>\n",
       "    .dataframe tbody tr th:only-of-type {\n",
       "        vertical-align: middle;\n",
       "    }\n",
       "\n",
       "    .dataframe tbody tr th {\n",
       "        vertical-align: top;\n",
       "    }\n",
       "\n",
       "    .dataframe thead th {\n",
       "        text-align: right;\n",
       "    }\n",
       "</style>\n",
       "<table border=\"1\" class=\"dataframe\">\n",
       "  <thead>\n",
       "    <tr style=\"text-align: right;\">\n",
       "      <th></th>\n",
       "      <th>n_clusters</th>\n",
       "      <th>sil_scores</th>\n",
       "    </tr>\n",
       "  </thead>\n",
       "  <tbody>\n",
       "    <tr>\n",
       "      <th>0</th>\n",
       "      <td>2</td>\n",
       "      <td>0.334650</td>\n",
       "    </tr>\n",
       "    <tr>\n",
       "      <th>6</th>\n",
       "      <td>8</td>\n",
       "      <td>0.311011</td>\n",
       "    </tr>\n",
       "    <tr>\n",
       "      <th>1</th>\n",
       "      <td>3</td>\n",
       "      <td>0.310297</td>\n",
       "    </tr>\n",
       "    <tr>\n",
       "      <th>8</th>\n",
       "      <td>10</td>\n",
       "      <td>0.308345</td>\n",
       "    </tr>\n",
       "    <tr>\n",
       "      <th>4</th>\n",
       "      <td>6</td>\n",
       "      <td>0.306605</td>\n",
       "    </tr>\n",
       "  </tbody>\n",
       "</table>\n",
       "</div>"
      ],
      "text/plain": [
       "   n_clusters  sil_scores\n",
       "0           2    0.334650\n",
       "6           8    0.311011\n",
       "1           3    0.310297\n",
       "8          10    0.308345\n",
       "4           6    0.306605"
      ]
     },
     "execution_count": 147,
     "metadata": {},
     "output_type": "execute_result"
    }
   ],
   "source": [
    "k_result = pd.DataFrame({\"n_clusters\": clusters, \"sil_scores\":kmeans_silhouette_scores})\n",
    "k_result.sort_values('sil_scores', ascending=False).head()"
   ]
  },
  {
   "cell_type": "code",
   "execution_count": 148,
   "id": "bf7a909f",
   "metadata": {},
   "outputs": [
    {
     "data": {
      "text/plain": [
       "Text(0.5, 1.0, 'K-Means Inertia')"
      ]
     },
     "execution_count": 148,
     "metadata": {},
     "output_type": "execute_result"
    },
    {
     "data": {
      "image/png": "[encoded data removed]",
      "text/plain": [
       "<Figure size 640x480 with 1 Axes>"
      ]
     },
     "metadata": {},
     "output_type": "display_data"
    }
   ],
   "source": [
    "plt.plot(range(2,11), inertia, marker='o', lw=2, ms=10)\n",
    "plt.xlabel(\"Number of clusters\")\n",
    "plt.title(\"K-Means Inertia\")"
   ]
  },
  {
   "cell_type": "code",
   "execution_count": 149,
   "id": "7b8fdcb8",
   "metadata": {},
   "outputs": [
    {
     "data": {
      "text/plain": [
       "KMeans(n_clusters=6, random_state=42)"
      ]
     },
     "execution_count": 149,
     "metadata": {},
     "output_type": "execute_result"
    }
   ],
   "source": [
    "# 실루엣 스코어와 엘보우 차트를 함께 고려하여,\n",
    "# 실루엣 스코어가 높고, 꺾이는 듯한 지점인 k=6로 설정\n",
    "kmeans = KMeans(n_clusters=6, random_state=42)\n",
    "kmeans.fit(X_scaled)"
   ]
  },
  {
   "cell_type": "code",
   "execution_count": 150,
   "id": "b85b7b60",
   "metadata": {},
   "outputs": [
    {
     "name": "stdout",
     "output_type": "stream",
     "text": [
      "[4 1 5 0 5 1 1 0 4 5 1 0 2 4 3 0 4 4 4 2 2 4 4 4 4 4 0 1 1 4 2 5 2 4 2 1 0\n",
      " 0 1 5 2 5 1 4 0 0 3 5 0 2 0 0 3 0 1 2 2 2 1 4 5 4 5 5 0 1 4 2 1 0 0 5 0 1\n",
      " 4 0 4 4 1 1 2 2 1 0 1 0 0 4 1 1 2 0 1 2 5 1 3 2 5 4 2 4 2 0 0 4 2 1 4 2 4\n",
      " 1 4 0 0 5 1 3 3 4 2]\n"
     ]
    }
   ],
   "source": [
    "scaler.inverse_transform(kmeans.cluster_centers_)\n",
    "assignments_X_train_scaled_k = kmeans.labels_\n",
    "print(assignments_X_train_scaled_k)"
   ]
  },
  {
   "cell_type": "code",
   "execution_count": 151,
   "id": "39cde783",
   "metadata": {},
   "outputs": [],
   "source": [
    "grouped_df['cluster'] = assignments_X_train_scaled_k"
   ]
  },
  {
   "cell_type": "code",
   "execution_count": 152,
   "id": "bed3e66a",
   "metadata": {},
   "outputs": [
    {
     "data": {
      "text/html": [
       "<div>\n",
       "<style scoped>\n",
       "    .dataframe tbody tr th:only-of-type {\n",
       "        vertical-align: middle;\n",
       "    }\n",
       "\n",
       "    .dataframe tbody tr th {\n",
       "        vertical-align: top;\n",
       "    }\n",
       "\n",
       "    .dataframe thead tr th {\n",
       "        text-align: left;\n",
       "    }\n",
       "\n",
       "    .dataframe thead tr:last-of-type th {\n",
       "        text-align: right;\n",
       "    }\n",
       "</style>\n",
       "<table border=\"1\" class=\"dataframe\">\n",
       "  <thead>\n",
       "    <tr>\n",
       "      <th></th>\n",
       "      <th colspan=\"2\" halign=\"left\">redust</th>\n",
       "      <th colspan=\"2\" halign=\"left\">buspop</th>\n",
       "      <th colspan=\"2\" halign=\"left\">stops</th>\n",
       "    </tr>\n",
       "    <tr>\n",
       "      <th></th>\n",
       "      <th>count</th>\n",
       "      <th>mean</th>\n",
       "      <th>count</th>\n",
       "      <th>mean</th>\n",
       "      <th>count</th>\n",
       "      <th>mean</th>\n",
       "    </tr>\n",
       "    <tr>\n",
       "      <th>cluster</th>\n",
       "      <th></th>\n",
       "      <th></th>\n",
       "      <th></th>\n",
       "      <th></th>\n",
       "      <th></th>\n",
       "      <th></th>\n",
       "    </tr>\n",
       "  </thead>\n",
       "  <tbody>\n",
       "    <tr>\n",
       "      <th>0</th>\n",
       "      <td>26</td>\n",
       "      <td>20.092103</td>\n",
       "      <td>26</td>\n",
       "      <td>42068.417287</td>\n",
       "      <td>26</td>\n",
       "      <td>100.692308</td>\n",
       "    </tr>\n",
       "    <tr>\n",
       "      <th>1</th>\n",
       "      <td>25</td>\n",
       "      <td>45.797502</td>\n",
       "      <td>25</td>\n",
       "      <td>10449.312944</td>\n",
       "      <td>25</td>\n",
       "      <td>21.720000</td>\n",
       "    </tr>\n",
       "    <tr>\n",
       "      <th>2</th>\n",
       "      <td>22</td>\n",
       "      <td>48.871573</td>\n",
       "      <td>22</td>\n",
       "      <td>21362.123111</td>\n",
       "      <td>22</td>\n",
       "      <td>61.727273</td>\n",
       "    </tr>\n",
       "    <tr>\n",
       "      <th>3</th>\n",
       "      <td>6</td>\n",
       "      <td>11.100000</td>\n",
       "      <td>6</td>\n",
       "      <td>6266.955556</td>\n",
       "      <td>6</td>\n",
       "      <td>12.000000</td>\n",
       "    </tr>\n",
       "    <tr>\n",
       "      <th>4</th>\n",
       "      <td>28</td>\n",
       "      <td>16.968141</td>\n",
       "      <td>28</td>\n",
       "      <td>20707.509389</td>\n",
       "      <td>28</td>\n",
       "      <td>36.750000</td>\n",
       "    </tr>\n",
       "    <tr>\n",
       "      <th>5</th>\n",
       "      <td>14</td>\n",
       "      <td>67.099433</td>\n",
       "      <td>14</td>\n",
       "      <td>42022.248032</td>\n",
       "      <td>14</td>\n",
       "      <td>132.642857</td>\n",
       "    </tr>\n",
       "  </tbody>\n",
       "</table>\n",
       "</div>"
      ],
      "text/plain": [
       "        redust            buspop               stops            \n",
       "         count       mean  count          mean count        mean\n",
       "cluster                                                         \n",
       "0           26  20.092103     26  42068.417287    26  100.692308\n",
       "1           25  45.797502     25  10449.312944    25   21.720000\n",
       "2           22  48.871573     22  21362.123111    22   61.727273\n",
       "3            6  11.100000      6   6266.955556     6   12.000000\n",
       "4           28  16.968141     28  20707.509389    28   36.750000\n",
       "5           14  67.099433     14  42022.248032    14  132.642857"
      ]
     },
     "execution_count": 152,
     "metadata": {},
     "output_type": "execute_result"
    }
   ],
   "source": [
    "grouped_df.groupby('cluster')[feature].agg(['count', 'mean'])"
   ]
  },
  {
   "attachments": {},
   "cell_type": "markdown",
   "id": "f48a4ea8",
   "metadata": {},
   "source": [
    "### 클러스터 정리\n",
    "(버스승하차 인구 ~= 유동인구)\n",
    "* 0번 그룹 - 재비산먼지 낮음 / 유동인구 많음 / 버스정류장 많음\n",
    "* 1번 그룹 - 재비산먼지 보통 / 유동인구 적음 / 버스정류장 적음\n",
    "* 2번 그룹 - 재비산먼지 보통 / 유동인구 보통 / 버스정류장 보통\n",
    "* 3번 그룹 - 재비산먼지 낮음 / 유동인구 적음 / 버스정류장 적음\n",
    "* 4번 그룹 - 재비산먼지 낮음 / 유동인구 보통 / 버스정류장 적음\n",
    "* 5번 그룹 - 재비산먼지 높음 / 유동인구 많음 / 버스정류장 많음\n",
    "\n",
    "### 미세먼지 프리존 버스정류장 설치 전략 수립(우선순위)\n",
    "1. 5번 그룹\n",
    "2. 2번 그룹\n",
    "3. 0번 그룹(재비산먼지는 낮지만, 유동인구(=누릴 수 있는 사람)가 많기 때문)\n",
    "4. 1번 그룹\n",
    "5. 4번 그룹\n",
    "6. 3번 그룹"
   ]
  }
 ],
 "metadata": {
  "kernelspec": {
   "display_name": "Python 3 (ipykernel)",
   "language": "python",
   "name": "python3"
  },
  "language_info": {
   "codemirror_mode": {
    "name": "ipython",
    "version": 3
   },
   "file_extension": ".py",
   "mimetype": "text/x-python",
   "name": "python",
   "nbconvert_exporter": "python",
   "pygments_lexer": "ipython3",
   "version": "3.9.6"
  }
 },
 "nbformat": 4,
 "nbformat_minor": 5
}
