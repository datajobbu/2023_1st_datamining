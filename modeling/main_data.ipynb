{
 "cells": [
  {
   "cell_type": "code",
   "execution_count": 9,
   "metadata": {},
   "outputs": [],
   "source": [
    "import pandas as pd"
   ]
  },
  {
   "cell_type": "code",
   "execution_count": 10,
   "metadata": {},
   "outputs": [],
   "source": [
    "re_dust_df = pd.read_csv('../data/seoul_re_dust.csv', index_col=0)\n",
    "living_df = pd.read_csv('../data/living_df.csv', index_col=0)\n",
    "fine_dust_df = pd.read_csv('../data/fine_dust_df.csv', index_col=0)\n",
    "bus_stop_df = pd.read_csv('../data/bus_stop.csv', encoding='cp949')\n",
    "construct_df = pd.read_csv('../data/contsruct_info.csv')\n",
    "map_df = pd.read_csv('../data_preprocess/행정동코드_매핑정보_20200325.csv')"
   ]
  },
  {
   "cell_type": "code",
   "execution_count": 11,
   "metadata": {},
   "outputs": [],
   "source": [
    "re_dust_df['date_cd'] = re_dust_df['date'].apply(lambda x: \"\".join(x.split('-')))"
   ]
  },
  {
   "cell_type": "code",
   "execution_count": 12,
   "metadata": {},
   "outputs": [],
   "source": [
    "main_df = re_dust_df.groupby(['date_cd', 'gu'])[['temperature', 'humidity', 'avg_re_dust']].mean().reset_index()"
   ]
  },
  {
   "cell_type": "code",
   "execution_count": 13,
   "metadata": {},
   "outputs": [],
   "source": [
    "fine_dust_df['MSRDT_DE'] = fine_dust_df['MSRDT_DE'].astype(str)"
   ]
  },
  {
   "cell_type": "code",
   "execution_count": 14,
   "metadata": {},
   "outputs": [],
   "source": [
    "merged_df = pd.merge(main_df, \n",
    "                     fine_dust_df, \n",
    "                     left_on=[\"date_cd\", \"gu\"], \n",
    "                     right_on=[\"MSRDT_DE\", \"MSRSTE_NM\"])"
   ]
  },
  {
   "cell_type": "code",
   "execution_count": 15,
   "metadata": {},
   "outputs": [],
   "source": [
    "living_df = pd.merge(living_df, map_df, left_on='ADSTRD_CODE_SE', right_on='RESD_CD')"
   ]
  },
  {
   "cell_type": "code",
   "execution_count": 16,
   "metadata": {},
   "outputs": [],
   "source": [
    "living_df['STDR_DE_ID'] = living_df['STDR_DE_ID'].astype(str)"
   ]
  },
  {
   "cell_type": "code",
   "execution_count": 17,
   "metadata": {},
   "outputs": [],
   "source": [
    "merged_df2 = pd.merge(\n",
    "    merged_df, \n",
    "    living_df, \n",
    "    left_on=[\"date_cd\", \"gu\"],\n",
    "    right_on=[\"STDR_DE_ID\", \"RESC_CT_NM\"]\n",
    ")"
   ]
  },
  {
   "cell_type": "code",
   "execution_count": 18,
   "metadata": {},
   "outputs": [],
   "source": [
    "bus_stop_df.columns = ['gu', 'stop_cnt']"
   ]
  },
  {
   "cell_type": "code",
   "execution_count": 19,
   "metadata": {},
   "outputs": [],
   "source": [
    "merged_df3 = pd.merge(merged_df2, \n",
    "                    bus_stop_df, \n",
    "                    left_on=[\"gu\"],\n",
    "                    right_on=[\"gu\"])"
   ]
  },
  {
   "cell_type": "code",
   "execution_count": 20,
   "metadata": {},
   "outputs": [],
   "source": [
    "from datetime import datetime \n",
    "\n",
    "merged_df3['date'] = merged_df3['date_cd'].apply(lambda x: datetime.strptime(x, '%Y%m%d').strftime('%Y-%m-%d'))"
   ]
  },
  {
   "cell_type": "code",
   "execution_count": 21,
   "metadata": {},
   "outputs": [],
   "source": [
    "construct_cnt_df = pd.DataFrame()\n",
    "\n",
    "for idx, dt in enumerate(merged_df3['date'].unique()):\n",
    "    temp = construct_df[(construct_df['cons_start_dt'] <= dt)\n",
    "                        & (construct_df['cons_end_dt'] > dt)]\n",
    "    out = pd.DataFrame(temp.groupby('gu')['cons_start_dt'].count()).reset_index()\n",
    "    out['date'] = dt\n",
    "    out.columns = ['gu', 'cons_cnt', 'date']\n",
    "    if idx == 0:\n",
    "        construct_cnt_df = out\n",
    "    else:\n",
    "        construct_cnt_df = pd.concat([construct_cnt_df, out], axis=0)"
   ]
  },
  {
   "cell_type": "code",
   "execution_count": 22,
   "metadata": {},
   "outputs": [],
   "source": [
    "df = pd.merge(merged_df3,\n",
    "              construct_cnt_df,\n",
    "              how='left',\n",
    "              on=['date', 'gu'],)"
   ]
  },
  {
   "cell_type": "code",
   "execution_count": 23,
   "metadata": {},
   "outputs": [],
   "source": [
    "columns = [\n",
    "    'date_cd', 'gu', 'temperature', 'humidity', 'avg_re_dust', \n",
    "    'PM10', 'PM25', 'O3', 'NO2', 'CO', 'SO2', 'TOT_LVPOP_CO',\n",
    "    'stop_cnt', 'cons_cnt'\n",
    "]"
   ]
  },
  {
   "cell_type": "code",
   "execution_count": 24,
   "metadata": {},
   "outputs": [],
   "source": [
    "df = df[columns]"
   ]
  },
  {
   "cell_type": "code",
   "execution_count": 25,
   "metadata": {},
   "outputs": [],
   "source": [
    "column_names = [\n",
    "    'date_cd', 'gu', 'temp', 'hum', 'redust', 'pm10', 'pm25',\n",
    "    'o3', 'no2' ,'co', 'so2', 'lvpop', 'stops', 'consts'\n",
    "]"
   ]
  },
  {
   "cell_type": "code",
   "execution_count": 26,
   "metadata": {},
   "outputs": [],
   "source": [
    "df.columns = column_names"
   ]
  },
  {
   "cell_type": "code",
   "execution_count": 27,
   "metadata": {},
   "outputs": [],
   "source": [
    "df.to_csv('../data/main_df.csv')"
   ]
  },
  {
   "cell_type": "code",
   "execution_count": null,
   "metadata": {},
   "outputs": [],
   "source": []
  }
 ],
 "metadata": {
  "kernelspec": {
   "display_name": "Python 3",
   "language": "python",
   "name": "python3"
  },
  "language_info": {
   "codemirror_mode": {
    "name": "ipython",
    "version": 3
   },
   "file_extension": ".py",
   "mimetype": "text/x-python",
   "name": "python",
   "nbconvert_exporter": "python",
   "pygments_lexer": "ipython3",
   "version": "3.9.6"
  },
  "orig_nbformat": 4
 },
 "nbformat": 4,
 "nbformat_minor": 2
}
