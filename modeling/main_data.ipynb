{
 "cells": [
  {
   "cell_type": "code",
   "execution_count": 2,
   "metadata": {},
   "outputs": [],
   "source": [
    "import pandas as pd"
   ]
  },
  {
   "cell_type": "code",
   "execution_count": 3,
   "metadata": {},
   "outputs": [],
   "source": [
    "re_dust_df = pd.read_csv('../data/seoul_re_dust.csv', index_col=0)\n",
    "living_df = pd.read_csv('../data/living_df.csv', index_col=0)\n",
    "fine_dust_df = pd.read_csv('../data/fine_dust_df.csv', index_col=0)"
   ]
  },
  {
   "cell_type": "code",
   "execution_count": 4,
   "metadata": {},
   "outputs": [
    {
     "data": {
      "text/html": [
       "<div>\n",
       "<style scoped>\n",
       "    .dataframe tbody tr th:only-of-type {\n",
       "        vertical-align: middle;\n",
       "    }\n",
       "\n",
       "    .dataframe tbody tr th {\n",
       "        vertical-align: top;\n",
       "    }\n",
       "\n",
       "    .dataframe thead th {\n",
       "        text-align: right;\n",
       "    }\n",
       "</style>\n",
       "<table border=\"1\" class=\"dataframe\">\n",
       "  <thead>\n",
       "    <tr style=\"text-align: right;\">\n",
       "      <th></th>\n",
       "      <th>date</th>\n",
       "      <th>time</th>\n",
       "      <th>city</th>\n",
       "      <th>gu</th>\n",
       "      <th>road</th>\n",
       "      <th>start</th>\n",
       "      <th>end</th>\n",
       "      <th>temperature</th>\n",
       "      <th>humidity</th>\n",
       "      <th>avg_re_dust</th>\n",
       "      <th>dust_ratio</th>\n",
       "    </tr>\n",
       "  </thead>\n",
       "  <tbody>\n",
       "    <tr>\n",
       "      <th>0</th>\n",
       "      <td>2018-05-03</td>\n",
       "      <td>09:50:00</td>\n",
       "      <td>서울</td>\n",
       "      <td>강서구</td>\n",
       "      <td>개화동로</td>\n",
       "      <td>서울특별시 강서구 개화동 659천</td>\n",
       "      <td>서울특별시 강서구 방화동 886-15 도</td>\n",
       "      <td>15.0</td>\n",
       "      <td>46.0</td>\n",
       "      <td>5.0</td>\n",
       "      <td>매우좋음</td>\n",
       "    </tr>\n",
       "    <tr>\n",
       "      <th>1</th>\n",
       "      <td>2018-05-03</td>\n",
       "      <td>10:13:00</td>\n",
       "      <td>서울</td>\n",
       "      <td>강서구</td>\n",
       "      <td>공항대로</td>\n",
       "      <td>서울특별시 강서구 방화동 621-4도</td>\n",
       "      <td>서울특별시 양천구 목동 560도</td>\n",
       "      <td>15.0</td>\n",
       "      <td>45.0</td>\n",
       "      <td>20.0</td>\n",
       "      <td>매우좋음</td>\n",
       "    </tr>\n",
       "    <tr>\n",
       "      <th>2</th>\n",
       "      <td>2018-05-03</td>\n",
       "      <td>10:41:00</td>\n",
       "      <td>서울</td>\n",
       "      <td>강서구</td>\n",
       "      <td>양천로</td>\n",
       "      <td>서울특별시 강서구 염창동 259-8제</td>\n",
       "      <td>서울특별시 강서구 방화동 515-4도</td>\n",
       "      <td>15.0</td>\n",
       "      <td>47.0</td>\n",
       "      <td>39.0</td>\n",
       "      <td>매우좋음</td>\n",
       "    </tr>\n",
       "  </tbody>\n",
       "</table>\n",
       "</div>"
      ],
      "text/plain": [
       "         date      time city   gu  road                 start  \\\n",
       "0  2018-05-03  09:50:00   서울  강서구  개화동로    서울특별시 강서구 개화동 659천   \n",
       "1  2018-05-03  10:13:00   서울  강서구  공항대로  서울특별시 강서구 방화동 621-4도   \n",
       "2  2018-05-03  10:41:00   서울  강서구   양천로  서울특별시 강서구 염창동 259-8제   \n",
       "\n",
       "                      end  temperature  humidity  avg_re_dust dust_ratio  \n",
       "0  서울특별시 강서구 방화동 886-15 도         15.0      46.0          5.0       매우좋음  \n",
       "1       서울특별시 양천구 목동 560도         15.0      45.0         20.0       매우좋음  \n",
       "2    서울특별시 강서구 방화동 515-4도         15.0      47.0         39.0       매우좋음  "
      ]
     },
     "execution_count": 4,
     "metadata": {},
     "output_type": "execute_result"
    }
   ],
   "source": [
    "re_dust_df.head(3)"
   ]
  },
  {
   "cell_type": "code",
   "execution_count": 5,
   "metadata": {},
   "outputs": [],
   "source": [
    "re_dust_df['date_cd'] = re_dust_df['date'].apply(lambda x: \"\".join(x.split('-')))"
   ]
  },
  {
   "cell_type": "code",
   "execution_count": 6,
   "metadata": {},
   "outputs": [],
   "source": [
    "main_df = re_dust_df.groupby(['date_cd', 'gu'])[['temperature', 'humidity', 'avg_re_dust']].mean().reset_index()"
   ]
  },
  {
   "cell_type": "code",
   "execution_count": 7,
   "metadata": {},
   "outputs": [
    {
     "data": {
      "text/html": [
       "<div>\n",
       "<style scoped>\n",
       "    .dataframe tbody tr th:only-of-type {\n",
       "        vertical-align: middle;\n",
       "    }\n",
       "\n",
       "    .dataframe tbody tr th {\n",
       "        vertical-align: top;\n",
       "    }\n",
       "\n",
       "    .dataframe thead th {\n",
       "        text-align: right;\n",
       "    }\n",
       "</style>\n",
       "<table border=\"1\" class=\"dataframe\">\n",
       "  <thead>\n",
       "    <tr style=\"text-align: right;\">\n",
       "      <th></th>\n",
       "      <th>MSRDT_DE</th>\n",
       "      <th>MSRRGN_NM</th>\n",
       "      <th>MSRSTE_NM</th>\n",
       "      <th>PM10</th>\n",
       "      <th>PM25</th>\n",
       "      <th>O3</th>\n",
       "      <th>NO2</th>\n",
       "      <th>CO</th>\n",
       "      <th>SO2</th>\n",
       "    </tr>\n",
       "  </thead>\n",
       "  <tbody>\n",
       "    <tr>\n",
       "      <th>0</th>\n",
       "      <td>20180503</td>\n",
       "      <td>도심권</td>\n",
       "      <td>중구</td>\n",
       "      <td>22</td>\n",
       "      <td>11</td>\n",
       "      <td>0.036</td>\n",
       "      <td>0.022</td>\n",
       "      <td>0.4</td>\n",
       "      <td>0.002</td>\n",
       "    </tr>\n",
       "    <tr>\n",
       "      <th>1</th>\n",
       "      <td>20180503</td>\n",
       "      <td>도심권</td>\n",
       "      <td>종로구</td>\n",
       "      <td>23</td>\n",
       "      <td>11</td>\n",
       "      <td>0.039</td>\n",
       "      <td>0.021</td>\n",
       "      <td>0.5</td>\n",
       "      <td>0.005</td>\n",
       "    </tr>\n",
       "    <tr>\n",
       "      <th>2</th>\n",
       "      <td>20180503</td>\n",
       "      <td>도심권</td>\n",
       "      <td>용산구</td>\n",
       "      <td>23</td>\n",
       "      <td>12</td>\n",
       "      <td>0.031</td>\n",
       "      <td>0.024</td>\n",
       "      <td>0.4</td>\n",
       "      <td>0.002</td>\n",
       "    </tr>\n",
       "  </tbody>\n",
       "</table>\n",
       "</div>"
      ],
      "text/plain": [
       "   MSRDT_DE MSRRGN_NM MSRSTE_NM  PM10  PM25     O3    NO2   CO    SO2\n",
       "0  20180503       도심권        중구    22    11  0.036  0.022  0.4  0.002\n",
       "1  20180503       도심권       종로구    23    11  0.039  0.021  0.5  0.005\n",
       "2  20180503       도심권       용산구    23    12  0.031  0.024  0.4  0.002"
      ]
     },
     "execution_count": 7,
     "metadata": {},
     "output_type": "execute_result"
    }
   ],
   "source": [
    "fine_dust_df.head(3)"
   ]
  },
  {
   "cell_type": "code",
   "execution_count": 8,
   "metadata": {},
   "outputs": [],
   "source": [
    "fine_dust_df['MSRDT_DE'] = fine_dust_df['MSRDT_DE'].astype(str)"
   ]
  },
  {
   "cell_type": "code",
   "execution_count": 9,
   "metadata": {},
   "outputs": [],
   "source": [
    "merged_df = pd.merge(main_df, \n",
    "                     fine_dust_df, \n",
    "                     left_on=[\"date_cd\", \"gu\"], \n",
    "                     right_on=[\"MSRDT_DE\", \"MSRSTE_NM\"])"
   ]
  },
  {
   "cell_type": "code",
   "execution_count": 10,
   "metadata": {},
   "outputs": [
    {
     "data": {
      "text/html": [
       "<div>\n",
       "<style scoped>\n",
       "    .dataframe tbody tr th:only-of-type {\n",
       "        vertical-align: middle;\n",
       "    }\n",
       "\n",
       "    .dataframe tbody tr th {\n",
       "        vertical-align: top;\n",
       "    }\n",
       "\n",
       "    .dataframe thead th {\n",
       "        text-align: right;\n",
       "    }\n",
       "</style>\n",
       "<table border=\"1\" class=\"dataframe\">\n",
       "  <thead>\n",
       "    <tr style=\"text-align: right;\">\n",
       "      <th></th>\n",
       "      <th>RESD_CD</th>\n",
       "      <th>RESD_DO_NM</th>\n",
       "      <th>RESC_CT_NM</th>\n",
       "    </tr>\n",
       "  </thead>\n",
       "  <tbody>\n",
       "    <tr>\n",
       "      <th>0</th>\n",
       "      <td>11110</td>\n",
       "      <td>서울</td>\n",
       "      <td>종로구</td>\n",
       "    </tr>\n",
       "    <tr>\n",
       "      <th>1</th>\n",
       "      <td>11140</td>\n",
       "      <td>서울</td>\n",
       "      <td>중구</td>\n",
       "    </tr>\n",
       "    <tr>\n",
       "      <th>2</th>\n",
       "      <td>11170</td>\n",
       "      <td>서울</td>\n",
       "      <td>용산구</td>\n",
       "    </tr>\n",
       "  </tbody>\n",
       "</table>\n",
       "</div>"
      ],
      "text/plain": [
       "   RESD_CD RESD_DO_NM RESC_CT_NM\n",
       "0    11110         서울        종로구\n",
       "1    11140         서울         중구\n",
       "2    11170         서울        용산구"
      ]
     },
     "execution_count": 10,
     "metadata": {},
     "output_type": "execute_result"
    }
   ],
   "source": [
    "map_df = pd.read_csv('../data_preprocess/행정동코드_매핑정보_20200325.csv')\n",
    "map_df.head(3)"
   ]
  },
  {
   "cell_type": "code",
   "execution_count": 11,
   "metadata": {},
   "outputs": [],
   "source": [
    "living_df = pd.merge(living_df, map_df, left_on='ADSTRD_CODE_SE', right_on='RESD_CD')"
   ]
  },
  {
   "cell_type": "code",
   "execution_count": 12,
   "metadata": {},
   "outputs": [
    {
     "data": {
      "text/html": [
       "<div>\n",
       "<style scoped>\n",
       "    .dataframe tbody tr th:only-of-type {\n",
       "        vertical-align: middle;\n",
       "    }\n",
       "\n",
       "    .dataframe tbody tr th {\n",
       "        vertical-align: top;\n",
       "    }\n",
       "\n",
       "    .dataframe thead th {\n",
       "        text-align: right;\n",
       "    }\n",
       "</style>\n",
       "<table border=\"1\" class=\"dataframe\">\n",
       "  <thead>\n",
       "    <tr style=\"text-align: right;\">\n",
       "      <th></th>\n",
       "      <th>STDR_DE_ID</th>\n",
       "      <th>ADSTRD_CODE_SE</th>\n",
       "      <th>TOT_LVPOP_CO</th>\n",
       "      <th>RESD_CD</th>\n",
       "      <th>RESD_DO_NM</th>\n",
       "      <th>RESC_CT_NM</th>\n",
       "    </tr>\n",
       "  </thead>\n",
       "  <tbody>\n",
       "    <tr>\n",
       "      <th>0</th>\n",
       "      <td>20180327</td>\n",
       "      <td>11110</td>\n",
       "      <td>366210.103583</td>\n",
       "      <td>11110</td>\n",
       "      <td>서울</td>\n",
       "      <td>종로구</td>\n",
       "    </tr>\n",
       "    <tr>\n",
       "      <th>1</th>\n",
       "      <td>20180328</td>\n",
       "      <td>11110</td>\n",
       "      <td>370298.500154</td>\n",
       "      <td>11110</td>\n",
       "      <td>서울</td>\n",
       "      <td>종로구</td>\n",
       "    </tr>\n",
       "    <tr>\n",
       "      <th>2</th>\n",
       "      <td>20180329</td>\n",
       "      <td>11110</td>\n",
       "      <td>367064.571029</td>\n",
       "      <td>11110</td>\n",
       "      <td>서울</td>\n",
       "      <td>종로구</td>\n",
       "    </tr>\n",
       "  </tbody>\n",
       "</table>\n",
       "</div>"
      ],
      "text/plain": [
       "   STDR_DE_ID  ADSTRD_CODE_SE   TOT_LVPOP_CO  RESD_CD RESD_DO_NM RESC_CT_NM\n",
       "0    20180327           11110  366210.103583    11110         서울        종로구\n",
       "1    20180328           11110  370298.500154    11110         서울        종로구\n",
       "2    20180329           11110  367064.571029    11110         서울        종로구"
      ]
     },
     "execution_count": 12,
     "metadata": {},
     "output_type": "execute_result"
    }
   ],
   "source": [
    "living_df.head(3)"
   ]
  },
  {
   "cell_type": "code",
   "execution_count": 13,
   "metadata": {},
   "outputs": [],
   "source": [
    "living_df['STDR_DE_ID'] = living_df['STDR_DE_ID'].astype(str)"
   ]
  },
  {
   "cell_type": "code",
   "execution_count": 14,
   "metadata": {},
   "outputs": [],
   "source": [
    "df = pd.merge(merged_df, \n",
    "              living_df, \n",
    "              left_on=[\"date_cd\", \"gu\"],\n",
    "              right_on=[\"STDR_DE_ID\", \"RESC_CT_NM\"])"
   ]
  },
  {
   "cell_type": "code",
   "execution_count": 15,
   "metadata": {},
   "outputs": [],
   "source": [
    "columns = [\n",
    "    'date_cd', 'gu', 'temperature', 'humidity', 'avg_re_dust', \n",
    "    'PM10', 'PM25', 'O3', 'NO2', 'CO', 'SO2', 'TOT_LVPOP_CO'\n",
    "]"
   ]
  },
  {
   "cell_type": "code",
   "execution_count": 16,
   "metadata": {},
   "outputs": [],
   "source": [
    "df = df[columns]"
   ]
  },
  {
   "cell_type": "code",
   "execution_count": 17,
   "metadata": {},
   "outputs": [],
   "source": [
    "df.to_csv('../data/main_df.csv')"
   ]
  },
  {
   "cell_type": "code",
   "execution_count": null,
   "metadata": {},
   "outputs": [],
   "source": []
  }
 ],
 "metadata": {
  "kernelspec": {
   "display_name": "Python 3",
   "language": "python",
   "name": "python3"
  },
  "language_info": {
   "codemirror_mode": {
    "name": "ipython",
    "version": 3
   },
   "file_extension": ".py",
   "mimetype": "text/x-python",
   "name": "python",
   "nbconvert_exporter": "python",
   "pygments_lexer": "ipython3",
   "version": "3.9.6"
  },
  "orig_nbformat": 4
 },
 "nbformat": 4,
 "nbformat_minor": 2
}
