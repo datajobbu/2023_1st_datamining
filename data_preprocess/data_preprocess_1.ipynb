{
 "cells": [
  {
   "attachments": {},
   "cell_type": "markdown",
   "metadata": {},
   "source": [
    "## Data Preprocess 1\n",
    "1. 메인 데이터(재비산먼지 농도) 수집 및 기본 처리\n",
    "    * API 인증키 에러가 지속되어 csv 파일로 하나씩 다운로드 받음(67개의 파일) -> 구글 드라이브에 원본 파일 업로드함\n",
    "    * 디렉토리 내의 파일들 모두 불러와 같은 형식으로 하나의 데이터프레임으로 합침\n",
    "        * `date`에 연도가 붙지 않고 들어오는 데이터의 경우 임의로 붙여서 같은 형태 유지하도록 함\n",
    "    * '서울시'의 데이터만 활용 -> 메인 데이터프레임 별도 파일로 저장"
   ]
  },
  {
   "cell_type": "code",
   "execution_count": 1,
   "metadata": {},
   "outputs": [],
   "source": [
    "# Load libraries\n",
    "import os\n",
    "import re\n",
    "import numpy as np\n",
    "import pandas as pd\n",
    "import requests\n",
    "import pprint\n",
    "import json\n",
    "import urllib.request \n",
    "import bs4\n",
    "from lxml import html\n",
    "from pandas.io.json import json_normalize"
   ]
  },
  {
   "attachments": {},
   "cell_type": "markdown",
   "metadata": {},
   "source": [
    "### 1. 메인 데이터(재비산먼지 농도) 수집 및 기본 처리"
   ]
  },
  {
   "cell_type": "code",
   "execution_count": 23,
   "metadata": {},
   "outputs": [],
   "source": [
    "dirname = 'dust_data/'"
   ]
  },
  {
   "cell_type": "code",
   "execution_count": 24,
   "metadata": {},
   "outputs": [],
   "source": [
    "filenames = os.listdir(dirname)\n",
    "full_df = []\n",
    "# 컬럼의 순서는 같지만, 이름이 달라 모두 같은 형식으로 통일\n",
    "columns = ['date', 'time', 'city', 'gu', 'road', 'start', 'end', 'temperature', 'humidity', 'avg_re_dust', 'dust_ratio']\n",
    "for k, filename in enumerate(filenames):\n",
    "    full_filename = os.path.join(dirname, filename)\n",
    "    df = pd.read_csv(full_filename, encoding='cp949')\n",
    "    df.columns = columns\n",
    "    # `date` 형식이 다른 파일이 있어, 해당 파일은 전처리 후 합침\n",
    "    if len(df['date'][0]) != 10:\n",
    "        year = re.search(r\"\\d{4}\", filename).group()\n",
    "        df['date'] = df['date'].apply(lambda x: year+'-'+x)\n",
    "    if k == 0:\n",
    "        # 첫 파일의 경우 합칠 데이터가 없어 그대로 데이터프레임 반환\n",
    "        full_df = df\n",
    "    else:\n",
    "        full_df = pd.concat([full_df, df], axis=0)"
   ]
  },
  {
   "cell_type": "code",
   "execution_count": 25,
   "metadata": {},
   "outputs": [],
   "source": [
    "# 서울시 데이터만 활용할 예정\n",
    "seoul_df = full_df[full_df['city']=='서울']"
   ]
  },
  {
   "cell_type": "code",
   "execution_count": 26,
   "metadata": {},
   "outputs": [],
   "source": [
    "# 별도의 파일로 저장\n",
    "seoul_df.to_csv('../data/seoul_re_dust.csv')"
   ]
  },
  {
   "cell_type": "code",
   "execution_count": 27,
   "metadata": {},
   "outputs": [
    {
     "data": {
      "text/html": [
       "<div>\n",
       "<style scoped>\n",
       "    .dataframe tbody tr th:only-of-type {\n",
       "        vertical-align: middle;\n",
       "    }\n",
       "\n",
       "    .dataframe tbody tr th {\n",
       "        vertical-align: top;\n",
       "    }\n",
       "\n",
       "    .dataframe thead th {\n",
       "        text-align: right;\n",
       "    }\n",
       "</style>\n",
       "<table border=\"1\" class=\"dataframe\">\n",
       "  <thead>\n",
       "    <tr style=\"text-align: right;\">\n",
       "      <th></th>\n",
       "      <th>date</th>\n",
       "      <th>time</th>\n",
       "      <th>city</th>\n",
       "      <th>gu</th>\n",
       "      <th>road</th>\n",
       "      <th>start</th>\n",
       "      <th>end</th>\n",
       "      <th>temperature</th>\n",
       "      <th>humidity</th>\n",
       "      <th>avg_re_dust</th>\n",
       "      <th>dust_ratio</th>\n",
       "    </tr>\n",
       "  </thead>\n",
       "  <tbody>\n",
       "    <tr>\n",
       "      <th>0</th>\n",
       "      <td>2018-05-03</td>\n",
       "      <td>09:50:00</td>\n",
       "      <td>서울</td>\n",
       "      <td>강서구</td>\n",
       "      <td>개화동로</td>\n",
       "      <td>서울특별시 강서구 개화동 659천</td>\n",
       "      <td>서울특별시 강서구 방화동 886-15 도</td>\n",
       "      <td>15.0</td>\n",
       "      <td>46.0</td>\n",
       "      <td>5.0</td>\n",
       "      <td>매우좋음</td>\n",
       "    </tr>\n",
       "    <tr>\n",
       "      <th>1</th>\n",
       "      <td>2018-05-03</td>\n",
       "      <td>10:13:00</td>\n",
       "      <td>서울</td>\n",
       "      <td>강서구</td>\n",
       "      <td>공항대로</td>\n",
       "      <td>서울특별시 강서구 방화동 621-4도</td>\n",
       "      <td>서울특별시 양천구 목동 560도</td>\n",
       "      <td>15.0</td>\n",
       "      <td>45.0</td>\n",
       "      <td>20.0</td>\n",
       "      <td>매우좋음</td>\n",
       "    </tr>\n",
       "    <tr>\n",
       "      <th>2</th>\n",
       "      <td>2018-05-03</td>\n",
       "      <td>10:41:00</td>\n",
       "      <td>서울</td>\n",
       "      <td>강서구</td>\n",
       "      <td>양천로</td>\n",
       "      <td>서울특별시 강서구 염창동 259-8제</td>\n",
       "      <td>서울특별시 강서구 방화동 515-4도</td>\n",
       "      <td>15.0</td>\n",
       "      <td>47.0</td>\n",
       "      <td>39.0</td>\n",
       "      <td>매우좋음</td>\n",
       "    </tr>\n",
       "    <tr>\n",
       "      <th>3</th>\n",
       "      <td>2018-05-03</td>\n",
       "      <td>10:46:00</td>\n",
       "      <td>서울</td>\n",
       "      <td>강서구</td>\n",
       "      <td>초원로</td>\n",
       "      <td>서울특별시 강서구 방화동 651-1도</td>\n",
       "      <td>서울특별시 강서구 방화동 217-156 도</td>\n",
       "      <td>15.0</td>\n",
       "      <td>48.0</td>\n",
       "      <td>13.0</td>\n",
       "      <td>매우좋음</td>\n",
       "    </tr>\n",
       "    <tr>\n",
       "      <th>4</th>\n",
       "      <td>2018-05-03</td>\n",
       "      <td>10:50:00</td>\n",
       "      <td>서울</td>\n",
       "      <td>강서구</td>\n",
       "      <td>마곡중앙5로</td>\n",
       "      <td>서울특별시 강서구 방화동 217-156 도</td>\n",
       "      <td>서울특별시 강서구 마곡동 278-6답</td>\n",
       "      <td>15.0</td>\n",
       "      <td>48.0</td>\n",
       "      <td>25.0</td>\n",
       "      <td>매우좋음</td>\n",
       "    </tr>\n",
       "  </tbody>\n",
       "</table>\n",
       "</div>"
      ],
      "text/plain": [
       "         date      time city   gu    road                    start  \\\n",
       "0  2018-05-03  09:50:00   서울  강서구    개화동로       서울특별시 강서구 개화동 659천   \n",
       "1  2018-05-03  10:13:00   서울  강서구    공항대로     서울특별시 강서구 방화동 621-4도   \n",
       "2  2018-05-03  10:41:00   서울  강서구     양천로     서울특별시 강서구 염창동 259-8제   \n",
       "3  2018-05-03  10:46:00   서울  강서구     초원로     서울특별시 강서구 방화동 651-1도   \n",
       "4  2018-05-03  10:50:00   서울  강서구  마곡중앙5로  서울특별시 강서구 방화동 217-156 도   \n",
       "\n",
       "                       end  temperature  humidity  avg_re_dust dust_ratio  \n",
       "0   서울특별시 강서구 방화동 886-15 도         15.0      46.0          5.0       매우좋음  \n",
       "1        서울특별시 양천구 목동 560도         15.0      45.0         20.0       매우좋음  \n",
       "2     서울특별시 강서구 방화동 515-4도         15.0      47.0         39.0       매우좋음  \n",
       "3  서울특별시 강서구 방화동 217-156 도         15.0      48.0         13.0       매우좋음  \n",
       "4     서울특별시 강서구 마곡동 278-6답         15.0      48.0         25.0       매우좋음  "
      ]
     },
     "execution_count": 27,
     "metadata": {},
     "output_type": "execute_result"
    }
   ],
   "source": [
    "seoul_df.head()"
   ]
  },
  {
   "attachments": {},
   "cell_type": "markdown",
   "metadata": {},
   "source": [
    "### 2. 서울시 생활인구 데이터 수집 및 처리"
   ]
  },
  {
   "cell_type": "code",
   "execution_count": 2,
   "metadata": {},
   "outputs": [
    {
     "data": {
      "text/plain": [
       "True"
      ]
     },
     "execution_count": 2,
     "metadata": {},
     "output_type": "execute_result"
    }
   ],
   "source": [
    "import dotenv\n",
    "\n",
    "dotenv.load_dotenv()"
   ]
  },
  {
   "cell_type": "code",
   "execution_count": 3,
   "metadata": {},
   "outputs": [],
   "source": [
    "# seoul_df = pd.read_csv('../data/seoul_re_dust.csv', index_col=0)"
   ]
  },
  {
   "cell_type": "code",
   "execution_count": 4,
   "metadata": {},
   "outputs": [],
   "source": [
    "# seoul_df['date_cd'] = seoul_df['date'].apply(lambda x: \"\".join(x.split('-')))"
   ]
  },
  {
   "cell_type": "code",
   "execution_count": null,
   "metadata": {},
   "outputs": [],
   "source": [
    "# from tqdm import tqdm\n",
    "\n",
    "# living_df = []\n",
    "# for idx, date_cd in tqdm(enumerate(seoul_df['date_cd'].unique())):\n",
    "#     living_api = f'http://openapi.seoul.go.kr:8088/{os.environ[\"living_api\"]}/xml/SPOP_LOCAL_RESD_JACHI/1/600/{date_cd}'\n",
    "#     response = requests.get(living_api)\n",
    "#     contents = response.text\n",
    "\n",
    "#     xml_obj = bs4.BeautifulSoup(contents,'lxml-xml')\n",
    "#     rows = xml_obj.findAll('row')\n",
    "#     # 각 행의 컬럼, 이름, 값을 가지는 리스트 만들기\n",
    "#     row_list = [] # 행값\n",
    "#     name_list = [] # 열이름값\n",
    "#     value_list = [] #데이터값\n",
    "\n",
    "#     # xml 안의 데이터 수집\n",
    "#     for i in range(0, len(rows)):\n",
    "#         columns = rows[i].find_all()\n",
    "#         #첫째 행 데이터 수집\n",
    "#         for j in range(0,len(columns)):\n",
    "#             if i ==0:\n",
    "#                 # 컬럼 이름 값 저장\n",
    "#                 name_list.append(columns[j].name)\n",
    "#             # 컬럼의 각 데이터 값 저장\n",
    "#             value_list.append(columns[j].text)\n",
    "#         # 각 행의 value값 전체 저장\n",
    "#         row_list.append(value_list)\n",
    "#         # 데이터 리스트 값 초기화\n",
    "#         value_list=[]\n",
    "\n",
    "#     if idx == 0:\n",
    "#         living_df = pd.DataFrame(row_list, columns=name_list)\n",
    "#     else:\n",
    "#         living_df = pd.concat([living_df, pd.DataFrame(row_list, columns=name_list)], axis=0)\n",
    "\n",
    "# living_df.to_csv('living_origin.csv')"
   ]
  },
  {
   "cell_type": "code",
   "execution_count": 38,
   "metadata": {},
   "outputs": [],
   "source": [
    "# living_df = pd.read_csv('living_origin.csv')\n",
    "# living_df['TOT_LVPOP_CO'] = living_df['TOT_LVPOP_CO'].astype(float)\n",
    "# living_df_summ = living_df.groupby(['STDR_DE_ID', 'ADSTRD_CODE_SE'])['TOT_LVPOP_CO'].mean()\n",
    "# living_df_new = living_df_summ.reset_index()\n",
    "# living_df_new.to_csv('../data/living_df.csv')"
   ]
  },
  {
   "attachments": {},
   "cell_type": "markdown",
   "metadata": {},
   "source": [
    "### 3. 미세먼지"
   ]
  },
  {
   "cell_type": "code",
   "execution_count": 7,
   "metadata": {},
   "outputs": [
    {
     "name": "stderr",
     "output_type": "stream",
     "text": [
      "694it [00:59, 11.66it/s]\n"
     ]
    }
   ],
   "source": [
    "# from tqdm import tqdm\n",
    "\n",
    "# fine_dust_df = []\n",
    "# for idx, date_cd in tqdm(enumerate(seoul_df['date_cd'].unique())):\n",
    "#     fine_dust_api = f'http://openapi.seoul.go.kr:8088/{os.environ[\"fine_dust_api\"]}/xml/DailyAverageCityAir/1/24/{date_cd}'\n",
    "#     response = requests.get(fine_dust_api)\n",
    "#     contents = response.text\n",
    "\n",
    "#     xml_obj = bs4.BeautifulSoup(contents,'lxml-xml')\n",
    "#     rows = xml_obj.findAll('row')\n",
    "#     # 각 행의 컬럼, 이름, 값을 가지는 리스트 만들기\n",
    "#     row_list = [] # 행값\n",
    "#     name_list = [] # 열이름값\n",
    "#     value_list = [] #데이터값\n",
    "\n",
    "#     # xml 안의 데이터 수집\n",
    "#     for i in range(0, len(rows)):\n",
    "#         columns = rows[i].find_all()\n",
    "#         #첫째 행 데이터 수집\n",
    "#         for j in range(0,len(columns)):\n",
    "#             if i ==0:\n",
    "#                 # 컬럼 이름 값 저장\n",
    "#                 name_list.append(columns[j].name)\n",
    "#             # 컬럼의 각 데이터 값 저장\n",
    "#             value_list.append(columns[j].text)\n",
    "#         # 각 행의 value값 전체 저장\n",
    "#         row_list.append(value_list)\n",
    "#         # 데이터 리스트 값 초기화\n",
    "#         value_list=[]\n",
    "\n",
    "#     if idx == 0:\n",
    "#         fine_dust_df = pd.DataFrame(row_list, columns=name_list)\n",
    "#     else:\n",
    "#         fine_dust_df = pd.concat([fine_dust_df, pd.DataFrame(row_list, columns=name_list)], axis=0)\n",
    "\n",
    "# fine_dust_df.to_csv('fine_dust_origin.csv')"
   ]
  },
  {
   "cell_type": "code",
   "execution_count": 9,
   "metadata": {},
   "outputs": [],
   "source": [
    "# fine_dust_df.to_csv('../data/fine_dust_df.csv')"
   ]
  },
  {
   "cell_type": "code",
   "execution_count": null,
   "metadata": {},
   "outputs": [],
   "source": []
  }
 ],
 "metadata": {
  "kernelspec": {
   "display_name": "Python 3",
   "language": "python",
   "name": "python3"
  },
  "language_info": {
   "codemirror_mode": {
    "name": "ipython",
    "version": 3
   },
   "file_extension": ".py",
   "mimetype": "text/x-python",
   "name": "python",
   "nbconvert_exporter": "python",
   "pygments_lexer": "ipython3",
   "version": "3.9.6"
  },
  "orig_nbformat": 4
 },
 "nbformat": 4,
 "nbformat_minor": 2
}
