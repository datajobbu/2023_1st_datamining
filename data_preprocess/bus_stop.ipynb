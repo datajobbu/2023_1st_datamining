{
 "cells": [
  {
   "attachments": {},
   "cell_type": "markdown",
   "id": "a9c9ae32",
   "metadata": {},
   "source": [
    "## 동별 버스정류장 집계"
   ]
  },
  {
   "cell_type": "code",
   "execution_count": 1,
   "id": "c1d2d02f",
   "metadata": {},
   "outputs": [
    {
     "name": "stdout",
     "output_type": "stream",
     "text": [
      "\n",
      "\u001b[1m[\u001b[0m\u001b[34;49mnotice\u001b[0m\u001b[1;39;49m]\u001b[0m\u001b[39;49m A new release of pip is available: \u001b[0m\u001b[31;49m23.0.1\u001b[0m\u001b[39;49m -> \u001b[0m\u001b[32;49m23.1.2\u001b[0m\n",
      "\u001b[1m[\u001b[0m\u001b[34;49mnotice\u001b[0m\u001b[1;39;49m]\u001b[0m\u001b[39;49m To update, run: \u001b[0m\u001b[32;49m/Library/Developer/CommandLineTools/usr/bin/python3 -m pip install --upgrade pip\u001b[0m\n"
     ]
    }
   ],
   "source": [
    "!pip3 install geopy --quiet"
   ]
  },
  {
   "cell_type": "code",
   "execution_count": 3,
   "id": "9eb4227c",
   "metadata": {},
   "outputs": [],
   "source": [
    "import pandas as pd\n",
    "\n",
    "from tqdm import tqdm_notebook\n",
    "from collections import Counter\n",
    "from geopy.geocoders import Nominatim"
   ]
  },
  {
   "cell_type": "code",
   "execution_count": 3,
   "id": "f0e67893",
   "metadata": {},
   "outputs": [],
   "source": [
    "def geocoding_reverse(lat_lng_str): \n",
    "    geolocoder = Nominatim(user_agent = 'South Korea', timeout=None)\n",
    "    address = geolocoder.reverse(lat_lng_str)\n",
    "\n",
    "    return address"
   ]
  },
  {
   "cell_type": "code",
   "execution_count": 4,
   "id": "c84bc9f7",
   "metadata": {},
   "outputs": [
    {
     "name": "stdout",
     "output_type": "stream",
     "text": [
      "     NODE_ID  ARS_ID           정류소명         X좌표        Y좌표\n",
      "0  100000001    1001        종로2가사거리  126.987750  37.569765\n",
      "1  100000002    1002    창경궁.서울대학교병원  126.996566  37.579183\n",
      "2  100000003    1003      명륜3가.성대입구  126.998340  37.582671\n",
      "3  100000004    1004       종로2가.삼일교  126.987613  37.568579\n",
      "4  100000005    1005  혜화동로터리.여운형활동터  127.001744  37.586243\n"
     ]
    }
   ],
   "source": [
    "file = \"../data/서울시버스정류소위치정보(20230509).xlsx\"\n",
    "\n",
    "data_frame = pd.read_excel(file)\n",
    "print(data_frame.head())"
   ]
  },
  {
   "cell_type": "code",
   "execution_count": 5,
   "id": "fc7a3b8c",
   "metadata": {},
   "outputs": [
    {
     "name": "stderr",
     "output_type": "stream",
     "text": [
      "/var/folders/y7/1tyjgy5d06j24sgnk95_sdt80000gn/T/ipykernel_71167/4221430762.py:6: TqdmDeprecationWarning: This function will be removed in tqdm==5.0.0\n",
      "Please use `tqdm.notebook.tqdm` instead of `tqdm.tqdm_notebook`\n",
      "  for i in tqdm_notebook(range(len(data_frame))):\n"
     ]
    },
    {
     "data": {
      "application/vnd.jupyter.widget-view+json": {
       "model_id": "a628259ece0c4247bdd9971efc9ea3fd",
       "version_major": 2,
       "version_minor": 0
      },
      "text/plain": [
       "  0%|          | 0/12566 [00:00<?, ?it/s]"
      ]
     },
     "metadata": {},
     "output_type": "display_data"
    }
   ],
   "source": [
    "# gu=[]\n",
    "\n",
    "# for i in tqdm_notebook(range(len(data_frame))):\n",
    "#     x= data_frame.X좌표[i]\n",
    "#     y= data_frame.Y좌표[i]\n",
    "    \n",
    "#     address = geocoding_reverse((y, x))\n",
    "    \n",
    "#     # split_address = str(address).split(\", \")\n",
    "#     # reversed_address = split_address[::-1]\n",
    "#     # selected_address = reversed_address[4]\n",
    "    \n",
    "#     # gu.append(selected_address)\n",
    "#     gu.append(address)"
   ]
  },
  {
   "cell_type": "code",
   "execution_count": 7,
   "id": "023cc2a1",
   "metadata": {},
   "outputs": [],
   "source": [
    "# df = pd.DataFrame({'location': gu})"
   ]
  },
  {
   "cell_type": "code",
   "execution_count": null,
   "id": "ceb92c1e",
   "metadata": {},
   "outputs": [],
   "source": [
    "df = pd.read_csv('bus_stop.csv', index_col=0)"
   ]
  },
  {
   "cell_type": "code",
   "execution_count": 13,
   "id": "8e8200f3",
   "metadata": {},
   "outputs": [],
   "source": [
    "df['loc_list'] = df['location'].apply(lambda x: str(x).split(\", \")[::-1])"
   ]
  },
  {
   "cell_type": "code",
   "execution_count": 15,
   "id": "71e58e4e",
   "metadata": {},
   "outputs": [],
   "source": [
    "df.to_csv('bus_stop.csv')"
   ]
  },
  {
   "cell_type": "code",
   "execution_count": 20,
   "id": "e12f1fdb",
   "metadata": {},
   "outputs": [],
   "source": [
    "df['loc_list'] = df['loc_list'].apply(lambda x: x if len(x) > 4 else '-')"
   ]
  },
  {
   "cell_type": "code",
   "execution_count": 21,
   "id": "ddc7da02",
   "metadata": {},
   "outputs": [],
   "source": [
    "df = df[df['loc_list']!='-']"
   ]
  },
  {
   "cell_type": "code",
   "execution_count": 24,
   "id": "9acf2a22",
   "metadata": {},
   "outputs": [
    {
     "name": "stderr",
     "output_type": "stream",
     "text": [
      "/var/folders/y7/1tyjgy5d06j24sgnk95_sdt80000gn/T/ipykernel_71167/3303050738.py:1: SettingWithCopyWarning: \n",
      "A value is trying to be set on a copy of a slice from a DataFrame.\n",
      "Try using .loc[row_indexer,col_indexer] = value instead\n",
      "\n",
      "See the caveats in the documentation: https://pandas.pydata.org/pandas-docs/stable/user_guide/indexing.html#returning-a-view-versus-a-copy\n",
      "  df['dong'] = df['loc_list'].apply(lambda x:x[4])\n"
     ]
    }
   ],
   "source": [
    "df['dong'] = df['loc_list'].apply(lambda x:x[4])"
   ]
  },
  {
   "cell_type": "code",
   "execution_count": 25,
   "id": "46c6d33b",
   "metadata": {
    "scrolled": true
   },
   "outputs": [
    {
     "name": "stdout",
     "output_type": "stream",
     "text": [
      "Counter({'서초동': 155, '가산동': 135, '방배동': 111, '성북동': 109, '오류2동': 107, '서교동': 94, '상암동': 94, '진관동': 82, '여의동': 77, '공항동': 77, '홍은2동': 76, '신정3동': 76, '가양1동': 73, '삼성동': 73, '인수동': 72, '송중동': 71, '세곡동': 71, '발산1동': 70, '독산1동': 68, '양재1동': 68, '개포동': 67, '위례동': 63, '종암동': 62, '연희동': 62, '서강동': 61, '흑석동': 60, '내곡동': 60, '평창동': 59, '목5동': 58, '개봉1동': 58, '수궁동': 58, '등촌3동': 57, '역삼동': 57, '대치동': 57, '강일동': 57, '신촌동': 56, '망우본동': 55, '공릉2동': 55, '충현동': 54, '금호2·3가동': 54, '구로3동': 54, '문래동': 54, '노량진1동': 54, '한강로동': 53, '영등포동': 53, '반포동': 53, '신내1동': 52, '공릉1동': 52, '월계2동': 51, '하계1동': 51, '번3동': 50, '쌍문1동': 50, '창4동': 50, '홍제3동': 50, '대방동': 50, '번2동': 49, '상도2동': 49, '상일1동': 49, '원효로1동': 48, '양재2동': 48, '종로1·2·3·4가동': 47, '성수1가1동': 47, '용신동': 47, '도봉2동': 47, '월계1동': 47, '구로2동': 47, '사직동': 46, '한남동': 46, '당산2동': 46, '정릉2동': 45, '갈현1동': 45, '불광1동': 45, '구산동': 45, '신도림동': 45, '대조동': 44, '시흥1동': 44, '도봉1동': 43, '방화2동': 43, '상도1동': 43, '은천동': 43, '서림동': 43, '공덕동': 42, '장위3동': 42, '성산2동': 42, '대림3동': 42, '신사동': 42, '회현동': 41, '대흥동': 41, '옥수동': 40, '응암1동': 40, '망원2동': 40, '천연동': 39, '장위1동': 39, '응암2동': 39, '미성동': 39, '삼선동': 38, '청운효자동': 38, '행당1동': 38, '마장동': 38, '번1동': 38, '방학3동': 38, '방화1동': 38, '시흥5동': 38, '신길7동': 38, '신길3동': 38, '상도4동': 38, '길동': 38, '사당2동': 37, '장안2동': 37, '돈암2동': 37, '염창동': 37, '화곡2동': 37, '개봉2동': 37, '낙성대동': 37, '대학동': 37, '일원본동': 37, '광장동': 36, '전농1동': 36, '방학1동': 36, '상계1동': 36, '도화동': 36, '고척2동': 36, '부암동': 35, '행당2동': 35, '금호1가동': 35, '월곡1동': 35, '월곡2동': 35, '삼각산동': 35, '상계2동': 35, '명동': 34, '제기동': 34, '정릉4동': 34, '고척1동': 34, '구로5동': 34, '종로5·6가동': 33, '면목3·8동': 33, '신사2동': 33, '북가좌2동': 33, '상도3동': 33, '가락본동': 33, '오륜동': 33, '구의3동': 32, '송천동': 32, '홍제1동': 32, '신정1동': 32, '목1동': 32, '화곡1동': 32, '가락2동': 32, '교남동': 31, '사근동': 31, '응봉동': 31, '묵1동': 31, '상계6·7동': 31, '갈현2동': 31, '성현동': 31, '청담동': 31, '장지동': 31, '성내1동': 31, '소공동': 30, '장안1동': 30, '왕십리도선동': 30, '성수2가1동': 30, '수유1동': 30, '창5동': 30, '신사1동': 30, '역촌동': 30, '신길1동': 30, '도곡동': 30, '잠실3동': 30, '혜화동': 29, '답십리1동': 29, '길음1동': 29, '정릉3동': 29, '창1동': 29, '창2동': 29, '상계5동': 29, '중계2·3동': 29, '불광2동': 29, '아현동': 29, '화곡6동': 29, '사당5동': 29, '반포4동': 29, '홍은1동': 28, '청파동': 28, '용산2가동': 28, '성수2가3동': 28, '중곡4동': 28, '청량리동': 28, '중화2동': 28, '우이동': 28, '삼양동': 28, '우장산동': 28, '신길5동': 28, '조원동': 28, '둔촌2동': 28, '천호2동': 28, '금호4가동': 27, '구의2동': 27, '면목본동': 27, '장위2동': 27, '안암동': 27, '월계3동': 27, '성산1동': 27, '신수동': 27, '화곡본동': 27, '화곡8동': 27, '양평2동': 27, '보라매동': 27, '논현동': 26, '석관동': 26, '수유3동': 26, '신정6동': 26, '방화3동': 26, '화곡4동': 26, '구로4동': 26, '서초3동': 26, '문정1동': 26, '이문2동': 25, '상계10동': 25, '개봉3동': 25, '신길6동': 25, '명일1동': 25, '서빙고동': 24, '이촌1동': 24, '중곡2동': 24, '중곡3동': 24, '면목2동': 24, '수유2동': 24, '상계9동': 24, '응암3동': 24, '시흥4동': 24, '도림동': 24, '신대방2동': 24, '사당3동': 24, '인헌동': 24, '잠원동': 24, '방배2동': 24, '오금동': 24, '광희동': 23, '남영동': 23, '신내2동': 23, '신정7동': 23, '문정2동': 23, '이태원2동': 22, '동선동': 22, '합정동': 22, '망원1동': 22, '구로1동': 22, '독산4동': 22, '영등포본동': 22, '서원동': 22, '고덕2동': 22, '천호1동': 22, '중곡1동': 21, '군자동': 21, '휘경2동': 21, '방학2동': 21, '양평동': 21, '방배3동': 21, '고덕1동': 21, '암사1동': 21, '묵2동': 20, '정릉1동': 20, '북아현동': 20, '남가좌2동': 20, '신월7동': 20, '시흥3동': 20, '당산1동': 20, '중앙동': 20, '일원1동': 20, '잠실본동': 20, '이화동': 19, '송정동': 19, '화양동': 19, '길음2동': 19, '상계3·4동': 19, '중계1동': 19, '난곡동': 19, '압구정동': 19, '성내3동': 19, '가회동': 18, '약수동': 18, '이태원1동': 18, '자양2동': 18, '쌍문3동': 18, '중계본동': 18, '하계2동': 18, '남가좌동': 18, '용강동': 18, '신정4동': 18, '가양3동': 18, '가양2동': 18, '오류1동': 18, '신대방1동': 18, '장충동': 17, '을지로동': 17, '용문동': 17, '상봉1동': 17, '면목5동': 17, '수색동': 17, '녹번동': 17, '목2동': 17, '독산3동': 17, '대림1동': 17, '신림동': 17, '청룡동': 17, '난향동': 17, '송파2동': 17, '성내2동': 17, '상일2동': 17, '숭인2동': 16, '숭인1동': 16, '중림동': 16, '후암동': 16, '자양3동': 16, '답십리2동': 16, '등촌1동': 16, '대림2동': 16, '사당1동': 16, '구의1동': 15, '이문1동': 15, '면목4동': 15, '쌍문2동': 15, '증산동': 15, '북가좌1동': 15, '신정2동': 15, '구로구': 15, '시흥2동': 15, '서초1동': 15, '서초구': 15, '개포2동': 15, '방이1동': 15, '창신1동': 14, '신당5동': 14, '자양1동': 14, '상봉2동': 14, '중화1동': 14, '쌍문4동': 14, '창3동': 14, '연남동': 14, '목4동': 14, '신월5동': 14, '신길4동': 14, '반포3동': 14, '논현2동': 14, '수서동': 14, '마천1동': 14, '명일2동': 14, '자양4동': 13, '도곡2동': 13, '잠실6동': 13, '석촌동': 13, '천호3동': 13, '휘경1동': 12, '면목7동': 12, '돈암1동': 12, '홍제2동': 12, '서초4동': 12, '삼성1동': 12, '대치2동': 12, '송파1동': 12, '마천2동': 12, '필동': 11, '왕십리2동': 11, '회기동': 11, '신월4동': 11, '양평1동': 11, '청림동': 11, '역삼1동': 11, '행정동': 11, '방이2동': 11, '거여2동': 11, '신당동': 10, '보광동': 10, '능동': 10, '망우3동': 10, '보문동': 10, '신월2동': 10, '신월6동': 10, '신월1동': 10, '행운동': 10, '신원동': 10, '삼성2동': 10, '개포1동': 10, '잠실2동': 10, '삼청동': 9, '이촌2동': 9, '용답동': 9, '전농2동': 9, '미아동': 9, '중계4동': 9, '목3동': 9, '등촌2동': 9, '독산2동': 9, '노량진2동': 9, '도곡1동': 9, '가락1동': 9, '풍납1동': 9, '송파구': 9, '둔촌1동': 9, '암사3동': 9, '창신3동': 8, '상계8동': 8, '반포2동': 8, '풍납동': 8, '거여1동': 8, '다산동': 7, '신월3동': 7, '양재동': 7, '역삼2동': 7, '황학동': 6, '청구동': 6, '남가좌1동': 6, '남현동': 6, '서초2동': 6, '마포구': 5, '화곡3동': 5, '강서구': 5, '논현1동': 5, '삼전동': 5, '효창동': 4, '중랑구': 4, '은평구': 4, '고촌읍': 4, '가리봉동': 4, '사당4동': 4, '수정구': 4, '대치4동': 4, '잠실7동': 4, '동화동': 3, '광진구': 3, '양천구': 3, '방배1동': 3, '방배본동': 3, '방배4동': 3, '개포3동': 3, '미사2동': 3, '염리동': 2, '성곡동': 2, '하안3동': 2, '금천구': 2, '소하1동': 2, '관악구': 2, '신천동': 2, '초이동': 2, '강동구': 2, '암사2동': 2, '무악동': 1, '창신2동': 1, '충무로1가': 1, '회현동2가': 1, '회현동3가': 1, '쌍림동': 1, '센터필드 Centerfield': 1, '건대 맛의거리': 1, '공릉동': 1, '장암동': 1, '노원구': 1, '덕양구': 1, '영천동': 1, '12통': 1, '대덕동': 1, '계양구': 1, '철산1동': 1, '만안구': 1, '청천2동': 1, '반포1동': 1, '대치1동': 1, '감일동': 1, '선동': 1})\n",
      "               구  빈도수\n",
      "0            성북동  109\n",
      "1            이화동   19\n",
      "2    종로1·2·3·4가동   47\n",
      "3            삼선동   38\n",
      "4            교남동   31\n",
      "..           ...  ...\n",
      "465         천호1동   22\n",
      "466         암사3동    9\n",
      "467           선동    1\n",
      "468         암사2동    2\n",
      "469         미사2동    3\n",
      "\n",
      "[470 rows x 2 columns]\n"
     ]
    }
   ],
   "source": [
    "count = Counter(df['dong'])\n",
    "print(count)\n",
    "out = pd.DataFrame(list(count.items()), columns=['구', '빈도수'])\n",
    "print(out)"
   ]
  },
  {
   "cell_type": "code",
   "execution_count": 26,
   "id": "154e1399",
   "metadata": {},
   "outputs": [],
   "source": [
    "out.to_csv(\"seoul_population_dong.csv\", index=False, encoding=\"cp949\")"
   ]
  },
  {
   "cell_type": "code",
   "execution_count": 5,
   "id": "85a491c6",
   "metadata": {},
   "outputs": [],
   "source": [
    "df = pd.read_csv('seoul_population_dong.csv', encoding='cp949')"
   ]
  },
  {
   "cell_type": "code",
   "execution_count": 7,
   "id": "f5efb827",
   "metadata": {},
   "outputs": [],
   "source": [
    "df.to_csv('../data/bus_stop_dong.csv')"
   ]
  },
  {
   "cell_type": "code",
   "execution_count": null,
   "id": "363fd951",
   "metadata": {},
   "outputs": [],
   "source": []
  }
 ],
 "metadata": {
  "kernelspec": {
   "display_name": "Python 3 (ipykernel)",
   "language": "python",
   "name": "python3"
  },
  "language_info": {
   "codemirror_mode": {
    "name": "ipython",
    "version": 3
   },
   "file_extension": ".py",
   "mimetype": "text/x-python",
   "name": "python",
   "nbconvert_exporter": "python",
   "pygments_lexer": "ipython3",
   "version": "3.9.6"
  }
 },
 "nbformat": 4,
 "nbformat_minor": 5
}
