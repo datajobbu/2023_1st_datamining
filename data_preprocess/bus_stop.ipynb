{
 "cells": [
  {
   "cell_type": "code",
   "execution_count": 1,
   "id": "9eb4227c",
   "metadata": {},
   "outputs": [
    {
     "name": "stdout",
     "output_type": "stream",
     "text": [
      "Requirement already satisfied: geopy in c:\\users\\82106\\anaconda3\\lib\\site-packages (2.3.0)\n",
      "Requirement already satisfied: geographiclib<3,>=1.52 in c:\\users\\82106\\anaconda3\\lib\\site-packages (from geopy) (2.0)\n"
     ]
    }
   ],
   "source": [
    "!pip install geopy\n",
    "from geopy.geocoders import Nominatim\n",
    "import pandas as pd"
   ]
  },
  {
   "cell_type": "code",
   "execution_count": 2,
   "id": "f0e67893",
   "metadata": {},
   "outputs": [],
   "source": [
    "def geocoding_reverse(lat_lng_str): \n",
    "    geolocoder = Nominatim(user_agent = 'South Korea', timeout=None)\n",
    "    address = geolocoder.reverse(lat_lng_str)\n",
    "\n",
    "    return address"
   ]
  },
  {
   "cell_type": "code",
   "execution_count": 3,
   "id": "c84bc9f7",
   "metadata": {},
   "outputs": [
    {
     "name": "stdout",
     "output_type": "stream",
     "text": [
      "     NODE_ID  ARS_ID           정류소명         X좌표        Y좌표\n",
      "0  100000001    1001        종로2가사거리  126.987750  37.569765\n",
      "1  100000002    1002    창경궁.서울대학교병원  126.996566  37.579183\n",
      "2  100000003    1003      명륜3가.성대입구  126.998340  37.582671\n",
      "3  100000004    1004       종로2가.삼일교  126.987613  37.568579\n",
      "4  100000005    1005  혜화동로터리.여운형활동터  127.001744  37.586243\n"
     ]
    }
   ],
   "source": [
    "import pandas as pd\n",
    "file = \"C:\\\\Users\\\\82106\\\\Desktop\\\\새 폴더\\\\서울시버스정류소위치정보(20230417).xlsx\"\n",
    "\n",
    "data_frame = pd.read_excel(file)\n",
    "print(data_frame.head())"
   ]
  },
  {
   "cell_type": "code",
   "execution_count": 5,
   "id": "fc7a3b8c",
   "metadata": {},
   "outputs": [
    {
     "name": "stdout",
     "output_type": "stream",
     "text": [
      "Counter({'성북구': 695, '강서구': 691, '서초구': 691, '강남구': 618, '구로구': 605, '마포구': 600, '영등포구': 600, '노원구': 583, '은평구': 566, '서대문구': 530, '성동구': 509, '송파구': 506, '관악구': 505, '강북구': 498, '동작구': 488, '강동구': 434, '도봉구': 429, '종로구': 419, '양천구': 404, '중랑구': 392, '금천구': 392, '용산구': 377, '동대문구': 347, '광진구': 321, '중구': 246, '서울': 63, '구리시': 7, '하남시': 7, '광명시': 5, '김포시': 4, '성남시': 4, '강일동': 3, '명동': 2, '부천시': 2, '흑석동': 2, '역삼2동': 2, '회현동': 1, '광희동': 1, '역삼동': 1, '의정부시': 1, '고양시': 1, '천연동': 1, '성산2동': 1, '상암동': 1, '덕양구': 1, '계양구': 1, '안양시': 1, '부평구': 1, '미사2동': 1})\n"
     ]
    }
   ],
   "source": [
    "from collections import Counter\n",
    "\n",
    "gu=[]\n",
    "\n",
    "for i in range(len(data_frame)) :\n",
    "    x= data_frame.X좌표[i]\n",
    "    y= data_frame.Y좌표[i]\n",
    "    \n",
    "    address = geocoding_reverse((y, x))\n",
    "    \n",
    "    \n",
    "    split_address = str(address).split(\", \")\n",
    "    reversed_address = split_address[::-1]\n",
    "    selected_address = reversed_address[3]\n",
    "    \n",
    "    gu.append(selected_address)\n",
    "    \n",
    "count = Counter(gu)\n",
    "print(count)\n",
    "    "
   ]
  },
  {
   "cell_type": "code",
   "execution_count": 9,
   "id": "46c6d33b",
   "metadata": {
    "scrolled": true
   },
   "outputs": [
    {
     "name": "stdout",
     "output_type": "stream",
     "text": [
      "       구  빈도수\n",
      "0    종로구  419\n",
      "1    성북구  695\n",
      "2   서대문구  530\n",
      "3     중구  246\n",
      "4    용산구  377\n",
      "5     명동    2\n",
      "6    회현동    1\n",
      "7    광희동    1\n",
      "8    성동구  509\n",
      "9    역삼동    1\n",
      "10   강남구  618\n",
      "11   동작구  488\n",
      "12   광진구  321\n",
      "13   구리시    7\n",
      "14  동대문구  347\n",
      "15   중랑구  392\n",
      "16   강북구  498\n",
      "17   도봉구  429\n",
      "18   노원구  583\n",
      "19  의정부시    1\n",
      "20    서울   63\n",
      "21   은평구  566\n",
      "22   고양시    1\n",
      "23   천연동    1\n",
      "24   마포구  600\n",
      "25  성산2동    1\n",
      "26  영등포구  600\n",
      "27   상암동    1\n",
      "28   양천구  404\n",
      "29   구로구  605\n",
      "30   부천시    2\n",
      "31   강서구  691\n",
      "32   김포시    4\n",
      "33   덕양구    1\n",
      "34   계양구    1\n",
      "35   광명시    5\n",
      "36   금천구  392\n",
      "37   안양시    1\n",
      "38   부평구    1\n",
      "39   흑석동    2\n",
      "40   관악구  505\n",
      "41   서초구  691\n",
      "42   성남시    4\n",
      "43  역삼2동    2\n",
      "44   강동구  434\n",
      "45   송파구  506\n",
      "46   하남시    7\n",
      "47  미사2동    1\n",
      "48   강일동    3\n"
     ]
    }
   ],
   "source": [
    "df = pd.DataFrame(list(count.items()), columns=['구', '빈도수'])\n",
    "print(df)"
   ]
  },
  {
   "cell_type": "code",
   "execution_count": 18,
   "id": "154e1399",
   "metadata": {},
   "outputs": [],
   "source": [
    "df.to_csv(\"seoul_population.csv\", index=False, encoding=\"cp949\")"
   ]
  },
  {
   "cell_type": "code",
   "execution_count": null,
   "id": "5f5fdca7",
   "metadata": {},
   "outputs": [],
   "source": []
  }
 ],
 "metadata": {
  "kernelspec": {
   "display_name": "Python 3 (ipykernel)",
   "language": "python",
   "name": "python3"
  },
  "language_info": {
   "codemirror_mode": {
    "name": "ipython",
    "version": 3
   },
   "file_extension": ".py",
   "mimetype": "text/x-python",
   "name": "python",
   "nbconvert_exporter": "python",
   "pygments_lexer": "ipython3",
   "version": "3.9.13"
  }
 },
 "nbformat": 4,
 "nbformat_minor": 5
}
